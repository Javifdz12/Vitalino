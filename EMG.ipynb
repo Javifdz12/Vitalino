{
  "nbformat": 4,
  "nbformat_minor": 0,
  "metadata": {
    "colab": {
      "provenance": []
    },
    "kernelspec": {
      "name": "python3",
      "display_name": "Python 3"
    },
    "language_info": {
      "name": "python"
    }
  },
  "cells": [
    {
      "cell_type": "markdown",
      "source": [
        "# **INTRODUCCIÓN**"
      ],
      "metadata": {
        "id": "nXHM5uAombyQ"
      }
    },
    {
      "cell_type": "markdown",
      "source": [
        "El conjunto de datos contiene extracciones estadísticas de datos EMG, que han sido recogidos de un grupo de sujetos realizando tres tipos de gestos. Los datos EMG se recogen típicamente a través de electrodos colocados en la superficie de la piel sobre los músculos de interés. Estos datos son señales eléctricas que representan la actividad muscular, y su análisis puede proporcionar información sobre la intención del movimiento del sujeto.\n",
        "\n",
        "# Clases en el conjunto de datos.\n",
        "-Relax (class '0'): Datos recogidos cuando el sujeto está en estado de relajación, sin realizar movimientos específicos con las manos.\n",
        "\n",
        "-Thumbs up (class '2'): Datos recogidos cuando el sujeto realiza el gesto de \"pulgares arriba\".\n",
        "\n",
        "-Thumbs down (class '1'): Datos recogidos cuando el sujeto realiza el gesto de \"pulgares abajo\".\n",
        "\n",
        "# Aplicaciones Potenciales.\n",
        "Desarrollo de Prótesis: Estos datos pueden ser utilizados para desarrollar algoritmos que permitan controlar prótesis de mano. Los gestos como \"pulgares arriba\" y \"pulgares abajo\" podrían convertirse en comandos para realizar acciones específicas.\n",
        "Rehabilitación: En rehabilitación, entender y clasificar correctamente estos gestos puede ayudar a monitorear el progreso de los pacientes y ajustar los tratamientos según sea necesario.\n",
        "Interfaces de Usuario: La clasificación de gestos EMG puede emplearse para desarrollar interfaces de usuario más naturales e intuitivas, especialmente en entornos donde el uso de teclados o ratones es impracticable."
      ],
      "metadata": {
        "id": "fW2oOCvwmc_T"
      }
    },
    {
      "cell_type": "markdown",
      "source": [
        "# **IMPORTACIÓN DE LIBRERÍAS**"
      ],
      "metadata": {
        "id": "Z7GUoI6Gr-aS"
      }
    },
    {
      "cell_type": "code",
      "execution_count": null,
      "metadata": {
        "id": "sM6U_5AWILrr"
      },
      "outputs": [],
      "source": [
        "import numpy as np\n",
        "import pandas as pd\n",
        "import matplotlib.pyplot as plt\n",
        "from sklearn.model_selection import train_test_split\n",
        "from keras.utils import to_categorical\n",
        "from keras.models import Sequential\n",
        "from keras.layers import Conv1D, BatchNormalization, ReLU, MaxPooling1D, Flatten, Dense\n",
        "from sklearn.metrics import confusion_matrix, classification_report\n",
        "from tabulate import tabulate\n",
        "import seaborn as sns"
      ]
    },
    {
      "cell_type": "markdown",
      "source": [
        "# **LECTURA Y VISUALIZACIÓN DE DATOS**"
      ],
      "metadata": {
        "id": "yrTL53G5sTZL"
      }
    },
    {
      "cell_type": "code",
      "source": [
        "df = pd.read_csv('/content/drive/MyDrive/Inteligencia_artificial/thumbs.csv')"
      ],
      "metadata": {
        "id": "4KGSm-1jLh7r"
      },
      "execution_count": null,
      "outputs": []
    },
    {
      "cell_type": "code",
      "source": [
        "df.shape"
      ],
      "metadata": {
        "colab": {
          "base_uri": "https://localhost:8080/"
        },
        "id": "CSVBs4sRMIZ9",
        "outputId": "8843ccf0-915d-448c-c9c4-3ebaa84b796a"
      },
      "execution_count": null,
      "outputs": [
        {
          "output_type": "execute_result",
          "data": {
            "text/plain": [
              "(3173, 2041)"
            ]
          },
          "metadata": {},
          "execution_count": 26
        }
      ]
    },
    {
      "cell_type": "code",
      "source": [
        "df['Label'].value_counts()"
      ],
      "metadata": {
        "colab": {
          "base_uri": "https://localhost:8080/"
        },
        "id": "xnGeEFTqMIiI",
        "outputId": "ef2b15fa-433b-41b5-8526-97606d862dbe"
      },
      "execution_count": null,
      "outputs": [
        {
          "output_type": "execute_result",
          "data": {
            "text/plain": [
              "Label\n",
              "1.0    1118\n",
              "2.0    1090\n",
              "0.0     965\n",
              "Name: count, dtype: int64"
            ]
          },
          "metadata": {},
          "execution_count": 27
        }
      ]
    },
    {
      "cell_type": "markdown",
      "source": [
        "# **TRANSFORMACIÓN Y DIVISIÓN DE DATOS EN TRAIN Y TEST**"
      ],
      "metadata": {
        "id": "LOfIwUHIsazY"
      }
    },
    {
      "cell_type": "code",
      "source": [
        "X = df.drop(['Label'], axis=1)\n",
        "y = df['Label']\n",
        "y=y.values.reshape(-1, 1)\n",
        "y=y.astype(int)\n",
        "y = to_categorical(y)\n",
        "# Suponiendo que X e y ya están definidos\n",
        "# Dividir los datos en conjuntos de entrenamiento y prueba\n",
        "X_train, X_test, y_train, y_test = train_test_split(X, y, test_size=0.3, random_state=42)"
      ],
      "metadata": {
        "id": "fsy1xM5EOM4o"
      },
      "execution_count": null,
      "outputs": []
    },
    {
      "cell_type": "markdown",
      "source": [
        "# **CREACIÓN, COMPILAMIENTO Y ENTRENAMIENTO DE MODELO DE CLASIFICACIÓN**"
      ],
      "metadata": {
        "id": "iSpKJpd8sy5y"
      }
    },
    {
      "cell_type": "code",
      "source": [
        "\n",
        "model = Sequential([\n",
        "    Dense(256, activation='relu', input_shape=(X_train.shape[1],)),\n",
        "    Dense(128, activation='relu'),\n",
        "    Dense(3, activation='softmax')\n",
        "])"
      ],
      "metadata": {
        "id": "z9obtTUjP7TT"
      },
      "execution_count": null,
      "outputs": []
    },
    {
      "cell_type": "code",
      "source": [
        "model.compile(optimizer='adam', loss='categorical_crossentropy', metrics=['accuracy'])"
      ],
      "metadata": {
        "id": "JeQUkQzuP72L"
      },
      "execution_count": null,
      "outputs": []
    },
    {
      "cell_type": "code",
      "source": [
        "model.fit(X_train, y_train, epochs=20, batch_size=10, validation_split=0.2)"
      ],
      "metadata": {
        "colab": {
          "base_uri": "https://localhost:8080/"
        },
        "id": "Q3jzHMPWQEsC",
        "outputId": "4dd18537-d2eb-4e34-e044-683a622eab7c"
      },
      "execution_count": null,
      "outputs": [
        {
          "output_type": "stream",
          "name": "stdout",
          "text": [
            "Epoch 1/20\n",
            "178/178 [==============================] - 3s 11ms/step - loss: 3.4138 - accuracy: 0.5800 - val_loss: 1.7315 - val_accuracy: 0.5753\n",
            "Epoch 2/20\n",
            "178/178 [==============================] - 2s 9ms/step - loss: 0.9318 - accuracy: 0.7168 - val_loss: 1.6910 - val_accuracy: 0.6112\n",
            "Epoch 3/20\n",
            "178/178 [==============================] - 3s 14ms/step - loss: 0.8170 - accuracy: 0.7190 - val_loss: 1.2268 - val_accuracy: 0.6831\n",
            "Epoch 4/20\n",
            "178/178 [==============================] - 3s 15ms/step - loss: 0.4858 - accuracy: 0.8108 - val_loss: 1.1258 - val_accuracy: 0.7663\n",
            "Epoch 5/20\n",
            "178/178 [==============================] - 2s 10ms/step - loss: 0.3929 - accuracy: 0.8570 - val_loss: 1.3791 - val_accuracy: 0.7640\n",
            "Epoch 6/20\n",
            "178/178 [==============================] - 2s 9ms/step - loss: 0.3788 - accuracy: 0.8654 - val_loss: 1.1468 - val_accuracy: 0.8360\n",
            "Epoch 7/20\n",
            "178/178 [==============================] - 2s 10ms/step - loss: 0.3408 - accuracy: 0.8829 - val_loss: 1.1363 - val_accuracy: 0.8292\n",
            "Epoch 8/20\n",
            "178/178 [==============================] - 2s 11ms/step - loss: 0.3053 - accuracy: 0.8829 - val_loss: 1.3361 - val_accuracy: 0.8337\n",
            "Epoch 9/20\n",
            "178/178 [==============================] - 2s 12ms/step - loss: 0.3238 - accuracy: 0.8902 - val_loss: 1.1543 - val_accuracy: 0.8292\n",
            "Epoch 10/20\n",
            "178/178 [==============================] - 3s 17ms/step - loss: 0.2237 - accuracy: 0.9110 - val_loss: 1.2877 - val_accuracy: 0.8427\n",
            "Epoch 11/20\n",
            "178/178 [==============================] - 3s 14ms/step - loss: 0.2180 - accuracy: 0.9268 - val_loss: 1.1085 - val_accuracy: 0.8607\n",
            "Epoch 12/20\n",
            "178/178 [==============================] - 2s 11ms/step - loss: 0.1662 - accuracy: 0.9392 - val_loss: 1.1242 - val_accuracy: 0.8697\n",
            "Epoch 13/20\n",
            "178/178 [==============================] - 2s 12ms/step - loss: 0.1171 - accuracy: 0.9634 - val_loss: 1.2834 - val_accuracy: 0.8494\n",
            "Epoch 14/20\n",
            "178/178 [==============================] - 2s 10ms/step - loss: 0.1412 - accuracy: 0.9448 - val_loss: 1.3784 - val_accuracy: 0.8652\n",
            "Epoch 15/20\n",
            "178/178 [==============================] - 2s 11ms/step - loss: 0.1149 - accuracy: 0.9578 - val_loss: 1.3699 - val_accuracy: 0.8539\n",
            "Epoch 16/20\n",
            "178/178 [==============================] - 2s 9ms/step - loss: 0.1462 - accuracy: 0.9448 - val_loss: 1.1850 - val_accuracy: 0.8742\n",
            "Epoch 17/20\n",
            "178/178 [==============================] - 2s 11ms/step - loss: 0.2123 - accuracy: 0.9381 - val_loss: 1.5749 - val_accuracy: 0.8517\n",
            "Epoch 18/20\n",
            "178/178 [==============================] - 2s 14ms/step - loss: 0.3296 - accuracy: 0.9206 - val_loss: 1.3720 - val_accuracy: 0.8517\n",
            "Epoch 19/20\n",
            "178/178 [==============================] - 2s 10ms/step - loss: 0.1635 - accuracy: 0.9448 - val_loss: 1.4656 - val_accuracy: 0.8742\n",
            "Epoch 20/20\n",
            "178/178 [==============================] - 2s 12ms/step - loss: 0.1494 - accuracy: 0.9566 - val_loss: 1.4968 - val_accuracy: 0.8876\n"
          ]
        },
        {
          "output_type": "execute_result",
          "data": {
            "text/plain": [
              "<keras.src.callbacks.History at 0x7a8ec80a19f0>"
            ]
          },
          "metadata": {},
          "execution_count": 31
        }
      ]
    },
    {
      "cell_type": "markdown",
      "source": [
        "# **EVALUACIÓN**"
      ],
      "metadata": {
        "id": "HiBXiw01s9_H"
      }
    },
    {
      "cell_type": "code",
      "source": [
        "loss, accuracy = model.evaluate(X_test, y_test)\n",
        "print(f\"Loss: {loss}, Accuracy: {accuracy}\")"
      ],
      "metadata": {
        "colab": {
          "base_uri": "https://localhost:8080/"
        },
        "id": "ExWg--HpQIuK",
        "outputId": "846962f9-ad06-4a40-c03f-36bf374fa808"
      },
      "execution_count": null,
      "outputs": [
        {
          "output_type": "stream",
          "name": "stdout",
          "text": [
            "30/30 [==============================] - 0s 4ms/step - loss: 0.8900 - accuracy: 0.8414\n",
            "Loss: 0.8900063633918762, Accuracy: 0.8413865566253662\n"
          ]
        }
      ]
    },
    {
      "cell_type": "markdown",
      "source": [
        "# **VISUALIZACIÓN DE RESULTADOS**"
      ],
      "metadata": {
        "id": "rscVRSPjtB9q"
      }
    },
    {
      "cell_type": "code",
      "source": [
        "\n",
        "predictions = model.predict(X_test)\n",
        "predictions = np.argmax(predictions, axis=1)\n",
        "y_test = np.argmax(y_test, axis=1)\n",
        "conf_mat = confusion_matrix(y_test, predictions)\n",
        "\n",
        "# Etiquetas de las clases para la matriz de confusión\n",
        "class_labels = ['Clase 0', 'Clase 1', 'Clase 2']  # Ajusta esto a tus etiquetas de clase\n",
        "\n",
        "plt.figure(figsize=(10, 7))\n",
        "sns.heatmap(conf_mat, annot=True, fmt='g', cmap='Blues', xticklabels=class_labels, yticklabels=class_labels)\n",
        "plt.xlabel('Predicciones')\n",
        "plt.ylabel('Valores Reales')\n",
        "plt.title('Matriz de Confusión')\n",
        "plt.show()"
      ],
      "metadata": {
        "colab": {
          "base_uri": "https://localhost:8080/",
          "height": 658
        },
        "id": "HgqKUAWrQQGY",
        "outputId": "3ced6c2a-1c15-44cb-a73c-66facea1b60b"
      },
      "execution_count": null,
      "outputs": [
        {
          "output_type": "stream",
          "name": "stdout",
          "text": [
            "30/30 [==============================] - 0s 3ms/step\n"
          ]
        },
        {
          "output_type": "display_data",
          "data": {
            "text/plain": [
              "<Figure size 1000x700 with 2 Axes>"
            ],
            "image/png": "[encoded data removed]"
          },
          "metadata": {}
        }
      ]
    }
  ]
}